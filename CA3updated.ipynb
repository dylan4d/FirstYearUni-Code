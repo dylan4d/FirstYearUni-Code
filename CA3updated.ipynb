{
 "cells": [
  {
   "cell_type": "markdown",
   "metadata": {
    "deletable": false,
    "editable": false,
    "nbgrader": {
     "cell_type": "markdown",
     "checksum": "b167187f6a3cc0b7df735e0cd2fd28ab",
     "grade": false,
     "grade_id": "cell-0228a5ff376f4d93",
     "locked": true,
     "schema_version": 3,
     "solution": false
    }
   },
   "source": [
    "# AM1054 Continuous Assessment 3"
   ]
  },
  {
   "cell_type": "code",
   "execution_count": 2,
   "metadata": {
    "deletable": false,
    "editable": false,
    "nbgrader": {
     "cell_type": "code",
     "checksum": "c206a707f6eb24783a01749278d2c259",
     "grade": false,
     "grade_id": "cell-4062af99dd5255b7",
     "locked": true,
     "schema_version": 3,
     "solution": false
    }
   },
   "outputs": [],
   "source": [
    "# execute this cell before you start the assignment\n",
    "%matplotlib inline\n",
    "import numpy as np\n",
    "import matplotlib.pyplot as plt\n",
    "import sympy as sym\n",
    "from ipywidgets import interact\n",
    "\n",
    "sym.init_printing(use_latex=\"mathjax\")\n",
    "x, y, z, t = sym.symbols('x y z t')"
   ]
  },
  {
   "cell_type": "markdown",
   "metadata": {
    "deletable": false,
    "editable": false,
    "nbgrader": {
     "cell_type": "markdown",
     "checksum": "fe08a388d5e40d712a98314c05130e6a",
     "grade": false,
     "grade_id": "cell-5f2bc2b8e2966b6f",
     "locked": true,
     "schema_version": 3,
     "solution": false
    }
   },
   "source": [
    "Due Wednesday 9 December 2020, 10am. No late assignments will be accepted. Strictly individual (no team) solutions are required. \n",
    "\n",
    "Upload your solution file `CA3.ipynb` to Canvas. \n",
    "\n",
    "Write `std_nr='11XXXXXXX'` (where 11XXXXXXX is your student number) into the next cell:"
   ]
  },
  {
   "cell_type": "code",
   "execution_count": 3,
   "metadata": {
    "deletable": false,
    "nbgrader": {
     "cell_type": "code",
     "checksum": "094b0c245b6fed6520a44289d2b9daee",
     "grade": false,
     "grade_id": "stnr",
     "locked": false,
     "schema_version": 3,
     "solution": true
    }
   },
   "outputs": [],
   "source": [
    "std_nr = 120309116"
   ]
  },
  {
   "cell_type": "code",
   "execution_count": 4,
   "metadata": {
    "deletable": false,
    "editable": false,
    "nbgrader": {
     "cell_type": "code",
     "checksum": "7bae4417cda9a6b20ba8bbf58ccd6697",
     "grade": true,
     "grade_id": "cell-7c82e818061b6421",
     "locked": true,
     "points": 0,
     "schema_version": 3,
     "solution": false
    }
   },
   "outputs": [],
   "source": [
    "assert(int(std_nr))"
   ]
  },
  {
   "cell_type": "markdown",
   "metadata": {
    "deletable": false,
    "editable": false,
    "nbgrader": {
     "cell_type": "markdown",
     "checksum": "fcf08f17aca3189e7ee50ff1b77fe816",
     "grade": false,
     "grade_id": "cell-1992908525eeafcd",
     "locked": true,
     "schema_version": 3,
     "solution": false
    }
   },
   "source": [
    "# 1. Symbolic computations\n",
    "\n",
    "Use `Python` and the `sympy` library to answer questions below. \n",
    "Consider the function \n",
    "\\begin{equation}\n",
    "f(x) = x^3 e^{-x^4}\n",
    "\\end{equation}\n",
    "\n"
   ]
  },
  {
   "cell_type": "markdown",
   "metadata": {
    "deletable": false,
    "editable": false,
    "nbgrader": {
     "cell_type": "markdown",
     "checksum": "143a453ddb52d6d72d88424f7a168686",
     "grade": false,
     "grade_id": "cell-d68f22a238068813",
     "locked": true,
     "schema_version": 3,
     "solution": false,
     "task": false
    }
   },
   "source": [
    "a) Use Python to calculate $\\frac{d^3}{dx^3}f(x)$ symbolically and assign the result to the Python variable `fprime`. (1 mark)"
   ]
  },
  {
   "cell_type": "code",
   "execution_count": 5,
   "metadata": {
    "deletable": false,
    "nbgrader": {
     "cell_type": "code",
     "checksum": "d9d3e9753d81deacfe602d42b4a12fb0",
     "grade": false,
     "grade_id": "1aggg",
     "locked": false,
     "schema_version": 3,
     "solution": true,
     "task": false
    }
   },
   "outputs": [],
   "source": [
    "fx = (x**3) * sym.exp(-x**4)\n",
    "fprime = sym.diff(fx,x,3)"
   ]
  },
  {
   "cell_type": "code",
   "execution_count": 6,
   "metadata": {
    "deletable": false,
    "editable": false,
    "nbgrader": {
     "cell_type": "code",
     "checksum": "006dc4fff6c11f69c12e7bdbf3c5a730",
     "grade": true,
     "grade_id": "cell-a2cc5d9b7ab688e0",
     "locked": true,
     "points": 1,
     "schema_version": 3,
     "solution": false,
     "task": false
    }
   },
   "outputs": [],
   "source": [
    "assert type(fprime.subs({x:0})) == sym.core.numbers.Integer"
   ]
  },
  {
   "cell_type": "markdown",
   "metadata": {
    "deletable": false,
    "editable": false,
    "nbgrader": {
     "cell_type": "markdown",
     "checksum": "1addb522686865df75c3cd40cbcd08fb",
     "grade": false,
     "grade_id": "cell-626f2ba61a1ecac9",
     "locked": true,
     "schema_version": 3,
     "solution": false,
     "task": false
    }
   },
   "source": [
    "b) Calculate $F(z) = \\int_{-\\infty}^z f(x) dx$ and assign the result to the Python variable `fintegral`. (1 mark)"
   ]
  },
  {
   "cell_type": "code",
   "execution_count": 7,
   "metadata": {
    "deletable": false,
    "nbgrader": {
     "cell_type": "code",
     "checksum": "ef6b5bbd32279d9209c45a29418ad23e",
     "grade": false,
     "grade_id": "cell-904af508befe56a3",
     "locked": false,
     "schema_version": 3,
     "solution": true,
     "task": false
    }
   },
   "outputs": [],
   "source": [
    "fintegral = sym.integrate(fx, (x,-sym.oo, z))"
   ]
  },
  {
   "cell_type": "code",
   "execution_count": 8,
   "metadata": {
    "deletable": false,
    "editable": false,
    "nbgrader": {
     "cell_type": "code",
     "checksum": "fe38de34b4811c351336061a4c597b48",
     "grade": true,
     "grade_id": "cell-280a7ead9131cb10",
     "locked": true,
     "points": 1,
     "schema_version": 3,
     "solution": false,
     "task": false
    }
   },
   "outputs": [],
   "source": [
    "assert type(fintegral.subs({z:0})) == sym.core.numbers.Rational"
   ]
  },
  {
   "cell_type": "markdown",
   "metadata": {
    "deletable": false,
    "editable": false,
    "nbgrader": {
     "cell_type": "markdown",
     "checksum": "1e46c0f2b5bf88b6ebda292319b53d64",
     "grade": false,
     "grade_id": "cell-e541e846de6d1e34",
     "locked": true,
     "schema_version": 3,
     "solution": false,
     "task": false
    }
   },
   "source": [
    "c) Plot a figure with two subplots, which share the x-axis. In the upper graph plot the functions $f(x)$ and $F(z)=\\int_{-\\infty}^z f(x)dx$. In the lower graph plot $\\frac{d^3}{dx^3}f(x)$. Choose $x,z\\in[-3,3]$. Add legend boxes with appropriate labels. (2 marks)"
   ]
  },
  {
   "cell_type": "code",
   "execution_count": 9,
   "metadata": {},
   "outputs": [],
   "source": [
    "fofx = sym.lambdify(x,fx)\n",
    "fprimex = sym.lambdify(x,fprime)\n",
    "fintegralx = sym.lambdify(z,fintegral)\n",
    "\n",
    "fxaxis = np.linspace(-3,3,100)\n"
   ]
  },
  {
   "cell_type": "code",
   "execution_count": 10,
   "metadata": {
    "deletable": false,
    "nbgrader": {
     "cell_type": "code",
     "checksum": "13d3d564c37b7d58c15f0f768a64510e",
     "grade": true,
     "grade_id": "fasdfas",
     "locked": false,
     "points": 2,
     "schema_version": 3,
     "solution": true
    }
   },
   "outputs": [
    {
     "data": {
      "image/png": "[encoded data removed]",
      "text/plain": [
       "<Figure size 1512x756 with 2 Axes>"
      ]
     },
     "metadata": {
      "needs_background": "light"
     },
     "output_type": "display_data"
    }
   ],
   "source": [
    "with plt.style.context('seaborn-dark-palette'):\n",
    "    fig, (ax1, ax2) = plt.subplots(2,1, figsize=(21,10.5))\n",
    "\n",
    "    ax1.set_title('f(x) & F(z)')\n",
    "    ax1.plot(fxaxis, fofx(fxaxis), label='f(x)', color='orange')\n",
    "    ax1.plot(fxaxis, fintegralx(fxaxis), label='F(z)')\n",
    "    ax1.legend(fontsize='xx-large')\n",
    "\n",
    "    ax2.set_title(\"f'(x)\")\n",
    "    ax2.plot(fxaxis, fprimex(fxaxis), label=\"f'(x)\", color='m')\n",
    "    ax2.legend(fontsize='xx-large')\n",
    "\n",
    "    plt.show()"
   ]
  },
  {
   "cell_type": "markdown",
   "metadata": {
    "deletable": false,
    "editable": false,
    "nbgrader": {
     "cell_type": "markdown",
     "checksum": "ae3d7152386556063de913352a15a369",
     "grade": false,
     "grade_id": "cell-ded4870e0c51a5cd",
     "locked": true,
     "schema_version": 3,
     "solution": false,
     "task": false
    }
   },
   "source": [
    "d) Create a slider which takes on integer values \n",
    "\\begin{equation}\n",
    "n\\in \\{ -1, 0, 1, \\ldots 10\\}.\n",
    "\\end{equation}\n",
    "Make a graph which depends on the position of the slider in the following way:\n",
    "- If $n>0$ plot $\\frac{d^n}{dx^n}f(x)$.  \n",
    "- If $n=0$ plot $f(x)$. \n",
    "- If $n=-1$ plot $F(z)$. \n",
    "\n",
    "In each case, use $x,z \\in [0,3]$. (2 marks)"
   ]
  },
  {
   "cell_type": "code",
   "execution_count": 11,
   "metadata": {
    "deletable": false,
    "nbgrader": {
     "cell_type": "code",
     "checksum": "f9cb0f831945d85b41e799a4179b4e18",
     "grade": true,
     "grade_id": "3easdfdas",
     "locked": false,
     "points": 2,
     "schema_version": 3,
     "solution": true
    },
    "scrolled": true
   },
   "outputs": [
    {
     "data": {
      "application/vnd.jupyter.widget-view+json": {
       "model_id": "936a780596d3485da05b6322bb06ce61",
       "version_major": 2,
       "version_minor": 0
      },
      "text/plain": [
       "interactive(children=(IntSlider(value=0, description='n', max=10, min=-1), Output()), _dom_classes=('widget-in…"
      ]
     },
     "metadata": {},
     "output_type": "display_data"
    }
   ],
   "source": [
    "fxaxis2 = np.linspace(0,3,100)\n",
    "\n",
    "@interact(n=(-1,10))\n",
    "def hopethisworks(n=0):\n",
    "    if n == 0:\n",
    "        plt.plot(fxaxis2, fofx(fxaxis2))\n",
    "    elif n == -1:\n",
    "        plt.plot(fxaxis2, fintegralx(fxaxis2))\n",
    "    else:\n",
    "        fprime2 = sym.diff(fx,x,n)\n",
    "        fprimen = sym.lambdify(x,fprime2)\n",
    "        plt.plot(fxaxis2, fprimen(fxaxis2))"
   ]
  },
  {
   "cell_type": "markdown",
   "metadata": {
    "deletable": false,
    "editable": false,
    "nbgrader": {
     "cell_type": "markdown",
     "checksum": "2a806b9849f438aacc1aedea41957490",
     "grade": false,
     "grade_id": "cell-05b4594bf801d093",
     "locked": true,
     "schema_version": 3,
     "solution": false
    }
   },
   "source": [
    "# 2. Polynomial Equations\n",
    "\n",
    "a) Consider the function \n",
    "\\begin{equation}\n",
    "f(x, y, z) = -x^3 + y x - z\n",
    "\\end{equation}\n",
    "Use `sympy` to calculate \n",
    "\\begin{equation} \n",
    "g(x, y, z) =  \\frac{\\partial f(x, y, z)}{\\partial x}\n",
    "\\end{equation}\n",
    "symbolically. Assign the result to the Python variable `g`. (1 mark)"
   ]
  },
  {
   "cell_type": "code",
   "execution_count": 12,
   "metadata": {
    "deletable": false,
    "nbgrader": {
     "cell_type": "code",
     "checksum": "ff1eaf6c9348a9d3647d09dc2ee6a287",
     "grade": false,
     "grade_id": "cell-0e0961cdd4481528",
     "locked": false,
     "schema_version": 3,
     "solution": true
    },
    "scrolled": true
   },
   "outputs": [],
   "source": [
    "f = -(x**3) + (y * x) - z\n",
    "g = sym.diff(f, x)"
   ]
  },
  {
   "cell_type": "code",
   "execution_count": null,
   "metadata": {
    "deletable": false,
    "editable": false,
    "nbgrader": {
     "cell_type": "code",
     "checksum": "81f3fe288abb407c6d7ab6a12037e341",
     "grade": true,
     "grade_id": "cell-3c4cf4176715b219",
     "locked": true,
     "points": 1,
     "schema_version": 3,
     "solution": false
    }
   },
   "outputs": [],
   "source": []
  },
  {
   "cell_type": "markdown",
   "metadata": {
    "deletable": false,
    "editable": false,
    "nbgrader": {
     "cell_type": "markdown",
     "checksum": "9378a709f66c6cad01715e7a76910168",
     "grade": false,
     "grade_id": "cell-51ff4c2d076fd0b8",
     "locked": true,
     "schema_version": 3,
     "solution": false,
     "task": false
    }
   },
   "source": [
    "b) Plot the functions $f(x, 3, 2)$ and $g(x, 3, 2)$ into the same plot for $y = 3$ and $z = 2.$  Choose the x-axis in the range from -2 to 2 and plot the x-axis using a dashed black line. (1 marks)\n",
    "\n"
   ]
  },
  {
   "cell_type": "code",
   "execution_count": 13,
   "metadata": {
    "deletable": false,
    "nbgrader": {
     "cell_type": "code",
     "checksum": "01f7fb11ba50fe5dcabb42b8f8c50ca9",
     "grade": true,
     "grade_id": "cell-7e850ed76e342e19",
     "locked": false,
     "points": 1,
     "schema_version": 3,
     "solution": true
    }
   },
   "outputs": [
    {
     "data": {
      "image/png": "[encoded data removed]",
      "text/plain": [
       "<Figure size 756x378 with 1 Axes>"
      ]
     },
     "metadata": {
      "needs_background": "light"
     },
     "output_type": "display_data"
    }
   ],
   "source": [
    "f = f.subs({y:3,z:2})\n",
    "g = g.subs({y:3,z:2})\n",
    "fx = sym.lambdify(x,f)\n",
    "gx = sym.lambdify(x,g)\n",
    "\n",
    "\n",
    "xaxis = np.linspace(-2,2,100)\n",
    "\n",
    "fig, (ax1) = plt.subplots(1 , 1, figsize=((10.5,5.25)))\n",
    "plt.style.use('seaborn-pastel')\n",
    "ax1.set_title('f(x,y,z) & g(x,y,z) where y is 3 and z is 2')\n",
    "ax1.plot(xaxis, fx(xaxis), color='orange')\n",
    "ax1.plot(xaxis, gx(xaxis))\n",
    "ax1.plot(xaxis,xaxis*0, '--', color = 'black')\n",
    "plt.show()\n"
   ]
  },
  {
   "cell_type": "markdown",
   "metadata": {
    "deletable": false,
    "editable": false,
    "nbgrader": {
     "cell_type": "markdown",
     "checksum": "6eefa8be11c0f2cda1f1a7367f468eac",
     "grade": false,
     "grade_id": "cell-837748b5d2431c9b",
     "locked": true,
     "schema_version": 3,
     "solution": false
    }
   },
   "source": [
    "c) Formally \n",
    "\\begin{align}\n",
    "f(x,y,z) &= 0\\\\\n",
    "g(x,y,z) &= 0\\\\\n",
    "\\end{align}\n",
    "are two equations in three real unknowns $x, y, z$.  For given $x$, there exist therefore functions $(y(x),z(x))$ such that   \n",
    "\\begin{align}\n",
    "f(x,y(x),z(x)) &= 0\\\\\n",
    "g(x,y(x),z(x)) &= 0\\\\\n",
    "\\end{align}\n",
    "Use `sympy` to solve this set of equations for $y$ and $z$ as functions of $x$ and assign the Python variables `y_sol`, `z_sol` accordingly. (2 marks)"
   ]
  },
  {
   "cell_type": "code",
   "execution_count": 14,
   "metadata": {
    "deletable": false,
    "nbgrader": {
     "cell_type": "code",
     "checksum": "ffa234511cfb1ee6a54e42b540f49d66",
     "grade": false,
     "grade_id": "cell-7e7e39be06aec449",
     "locked": false,
     "schema_version": 3,
     "solution": true
    }
   },
   "outputs": [],
   "source": [
    "f=-(x**3) + (y * x) - z\n",
    "g= -3 * (x**2) + y\n",
    "\n",
    "y_solution = sym.solve(sym.Eq(g,0))\n",
    "f = f.subs({y:y_solution[0][y]})\n",
    "\n",
    "y_sol=y_solution[0][y]\n",
    "z_sol = sym.solve(sym.Eq(f,0))[0][z]"
   ]
  },
  {
   "cell_type": "code",
   "execution_count": null,
   "metadata": {
    "deletable": false,
    "editable": false,
    "nbgrader": {
     "cell_type": "code",
     "checksum": "59939008a496c4363e0ff0305b7a750f",
     "grade": true,
     "grade_id": "cell-8cea7741b550856a",
     "locked": true,
     "points": 2,
     "schema_version": 3,
     "solution": false
    }
   },
   "outputs": [],
   "source": []
  },
  {
   "cell_type": "markdown",
   "metadata": {
    "deletable": false,
    "editable": false,
    "nbgrader": {
     "cell_type": "markdown",
     "checksum": "9f08c75aba7fad5577b83ccc97f7a768",
     "grade": false,
     "grade_id": "cell-c06c14d3f29a34d8",
     "locked": true,
     "schema_version": 3,
     "solution": false
    }
   },
   "source": [
    "d) Plot the solutions $y(x)$ and $z(x)$ for $x\\in [-3,3]$ in the  $(y, z)$ plane. (2 marks)"
   ]
  },
  {
   "cell_type": "code",
   "execution_count": 15,
   "metadata": {
    "deletable": false,
    "nbgrader": {
     "cell_type": "code",
     "checksum": "0c714111fb460564db2dd81a4c74ec55",
     "grade": true,
     "grade_id": "cell-425f9f3a26eb392b",
     "locked": false,
     "points": 2,
     "schema_version": 3,
     "solution": true
    }
   },
   "outputs": [
    {
     "data": {
      "image/png": "[encoded data removed]",
      "text/plain": [
       "<Figure size 432x288 with 1 Axes>"
      ]
     },
     "metadata": {
      "needs_background": "light"
     },
     "output_type": "display_data"
    }
   ],
   "source": [
    "yaxis = np.linspace(-3,3,100)\n",
    "yx = sym.lambdify(x,y_sol)\n",
    "zx = sym.lambdify(x,z_sol)\n",
    "\n",
    "#plt.plot(xaxis), yx(yaxis)) I dont think this is what is wanted for both.\n",
    "plt.plot(yx(xaxis), zx(yaxis))\n",
    "plt.show()"
   ]
  },
  {
   "cell_type": "markdown",
   "metadata": {
    "deletable": false,
    "editable": false,
    "nbgrader": {
     "cell_type": "markdown",
     "checksum": "971866e1a992e623ffda84a4c12024b6",
     "grade": false,
     "grade_id": "cell-3a30565aec337457",
     "locked": true,
     "schema_version": 3,
     "solution": false
    }
   },
   "source": [
    "# 3. Stirling's Approximation\n",
    "Stirling's formula proposes that the factorial of a natural number `n` can be approximated as \n",
    "\\begin{equation}\n",
    "  n! \\approx \\sqrt{2\\pi n} \\left(\\frac{n}{e}\\right)^n\n",
    "\\end{equation}\n",
    "\n",
    "a) Write a Python function `S(n)` which returns the right hand side of this approximation as a floating point number.  (1 mark)"
   ]
  },
  {
   "cell_type": "code",
   "execution_count": 16,
   "metadata": {
    "deletable": false,
    "nbgrader": {
     "cell_type": "code",
     "checksum": "0af436ed1723b052224ad7cd8f7ba510",
     "grade": false,
     "grade_id": "cell-5b34c47386955718",
     "locked": false,
     "schema_version": 3,
     "solution": true
    },
    "scrolled": true
   },
   "outputs": [],
   "source": [
    "def S(n):\n",
    "    return np.sqrt(2 * np.pi * n ) * (n / np.exp(1))**n"
   ]
  },
  {
   "cell_type": "code",
   "execution_count": 17,
   "metadata": {
    "deletable": false,
    "editable": false,
    "nbgrader": {
     "cell_type": "code",
     "checksum": "80bdd1446ffad59fe8d584cd0e4cb51e",
     "grade": true,
     "grade_id": "cell-3ca438bc74492caf",
     "locked": true,
     "points": 1,
     "schema_version": 3,
     "solution": false
    }
   },
   "outputs": [],
   "source": [
    "assert type(S(3)) == np.float64 or type(S(3)) == float"
   ]
  },
  {
   "cell_type": "markdown",
   "metadata": {
    "deletable": false,
    "editable": false,
    "nbgrader": {
     "cell_type": "markdown",
     "checksum": "785d3d6d882b5b40f6f72e96441a5edd",
     "grade": false,
     "grade_id": "cell-af9e2b0073453de5",
     "locked": true,
     "schema_version": 3,
     "solution": false,
     "task": false
    }
   },
   "source": [
    "b) It is known that for large `n` the relative error of Stirling's approximation converges to zero.  \n",
    "Calculate the relative error  $\\epsilon_n$ for $n = 5, 10, 20, 40, 100$ and plot $\\log(n)$ versus $\\log \\epsilon_n$ as black dots. (1 mark)"
   ]
  },
  {
   "cell_type": "code",
   "execution_count": 18,
   "metadata": {
    "deletable": false,
    "nbgrader": {
     "cell_type": "code",
     "checksum": "126666f24f284147cab1782621bdd767",
     "grade": true,
     "grade_id": "cell-935d2c8f3daac",
     "locked": false,
     "points": 1,
     "schema_version": 3,
     "solution": true,
     "task": false
    }
   },
   "outputs": [],
   "source": [
    "numbers = [5,10,20,40,100]\n",
    "error = []\n",
    "logn = []\n",
    "\n",
    "for num in numbers:\n",
    "    error.append(np.log(np.math.factorial(num) - np.log(S(num))))\n",
    "    logn.append(sym.log(num))"
   ]
  },
  {
   "cell_type": "code",
   "execution_count": 19,
   "metadata": {},
   "outputs": [
    {
     "data": {
      "image/png": "[encoded data removed]",
      "text/plain": [
       "<Figure size 432x288 with 1 Axes>"
      ]
     },
     "metadata": {
      "needs_background": "light"
     },
     "output_type": "display_data"
    }
   ],
   "source": [
    "plt.scatter(logn, error, color='black')\n",
    "plt.xlabel('log n')\n",
    "plt.ylabel('error')\n",
    "plt.show()"
   ]
  },
  {
   "cell_type": "markdown",
   "metadata": {
    "deletable": false,
    "editable": false,
    "nbgrader": {
     "cell_type": "markdown",
     "checksum": "d793d3ba8548cdc53a77673dc5aa12a0",
     "grade": false,
     "grade_id": "cell-47a3d26114fd579b",
     "locked": true,
     "schema_version": 3,
     "solution": false,
     "task": false
    }
   },
   "source": [
    "c) Calculate the relative error for $n=200$.  What do you observe?  How do you explain your observations? (2 marks)"
   ]
  },
  {
   "cell_type": "code",
   "execution_count": 20,
   "metadata": {
    "deletable": false,
    "nbgrader": {
     "cell_type": "markdown",
     "checksum": "30097bcd192ee6a2b72afff0448e2aee",
     "grade": true,
     "grade_id": "cell-1651c2c54ed873d8",
     "locked": false,
     "points": 2,
     "schema_version": 3,
     "solution": true,
     "task": false
    },
    "scrolled": true
   },
   "outputs": [
    {
     "name": "stderr",
     "output_type": "stream",
     "text": [
      "<ipython-input-16-14b89f995f15>:2: RuntimeWarning: overflow encountered in double_scalars\n",
      "  return np.sqrt(2 * np.pi * n ) * (n / np.exp(1))**n\n"
     ]
    },
    {
     "ename": "OverflowError",
     "evalue": "int too large to convert to float",
     "output_type": "error",
     "traceback": [
      "\u001b[0;31m---------------------------------------------------------------------------\u001b[0m",
      "\u001b[0;31mOverflowError\u001b[0m                             Traceback (most recent call last)",
      "\u001b[0;32m<ipython-input-20-ad042695f168>\u001b[0m in \u001b[0;36m<module>\u001b[0;34m\u001b[0m\n\u001b[0;32m----> 1\u001b[0;31m \u001b[0mre\u001b[0m \u001b[0;34m=\u001b[0m \u001b[0mnp\u001b[0m\u001b[0;34m.\u001b[0m\u001b[0mlog\u001b[0m\u001b[0;34m(\u001b[0m\u001b[0mnp\u001b[0m\u001b[0;34m.\u001b[0m\u001b[0mmath\u001b[0m\u001b[0;34m.\u001b[0m\u001b[0mfactorial\u001b[0m\u001b[0;34m(\u001b[0m\u001b[0;36m200\u001b[0m\u001b[0;34m)\u001b[0m\u001b[0;34m-\u001b[0m\u001b[0mnp\u001b[0m\u001b[0;34m.\u001b[0m\u001b[0mlog\u001b[0m\u001b[0;34m(\u001b[0m\u001b[0mS\u001b[0m\u001b[0;34m(\u001b[0m\u001b[0;36m200\u001b[0m\u001b[0;34m)\u001b[0m\u001b[0;34m)\u001b[0m\u001b[0;34m)\u001b[0m\u001b[0;34m\u001b[0m\u001b[0;34m\u001b[0m\u001b[0m\n\u001b[0m",
      "\u001b[0;31mOverflowError\u001b[0m: int too large to convert to float"
     ]
    }
   ],
   "source": [
    "re = np.log(np.math.factorial(200)-np.log(S(200)))"
   ]
  },
  {
   "cell_type": "markdown",
   "metadata": {},
   "source": [
    "The result becomes too large and python is unable to convert it from an integer value into a float.I came to this conclusion based on the logn,error graph rising exponentially and the overflow error when trying to run n=200.\n"
   ]
  },
  {
   "cell_type": "markdown",
   "metadata": {
    "deletable": false,
    "editable": false,
    "nbgrader": {
     "cell_type": "markdown",
     "checksum": "8e8b6a154354162bc41d687e6ac1df76",
     "grade": false,
     "grade_id": "cell-b8fe1077e1d13e27",
     "locked": true,
     "schema_version": 3,
     "solution": false,
     "task": false
    }
   },
   "source": [
    "# 4 Exponential function\n",
    "\n",
    "The exponential function can be defined as \n",
    "\\begin{equation}\n",
    "e^a = \\lim_{n \\to \\infty} \\left(1 +\\frac{a}{n}\\right)^n\n",
    "\\end{equation}\n",
    "\n",
    "a) Define a Python function `Ep(a,i)` which returns \\begin{equation}\n",
    "\\left(1 +\\frac{a}{2^i}\\right)^{2^i}\n",
    "\\end{equation}\n",
    "as a floating point number. (1 mark)"
   ]
  },
  {
   "cell_type": "code",
   "execution_count": 21,
   "metadata": {
    "deletable": false,
    "nbgrader": {
     "cell_type": "code",
     "checksum": "b1f9fdbe5afefb68c498ed2c18b77332",
     "grade": false,
     "grade_id": "cell-86f3098d633fa4ff",
     "locked": false,
     "schema_version": 3,
     "solution": true,
     "task": false
    }
   },
   "outputs": [],
   "source": [
    "def Ep(a,i):\n",
    "    return (1+(a/2**i))**(2**i)"
   ]
  },
  {
   "cell_type": "code",
   "execution_count": 22,
   "metadata": {
    "deletable": false,
    "editable": false,
    "nbgrader": {
     "cell_type": "code",
     "checksum": "da30584c8e11c0903c912cd8ef9c4680",
     "grade": true,
     "grade_id": "cell-0bd18cae058eb646",
     "locked": true,
     "points": 1,
     "schema_version": 3,
     "solution": false,
     "task": false
    }
   },
   "outputs": [],
   "source": [
    "assert type(Ep(2,4)) == np.float64 or type(Ep(2,4)) == float"
   ]
  },
  {
   "cell_type": "markdown",
   "metadata": {},
   "source": [
    "b) Calculate the value of `i` for which `Ep(17,i)` yields the best approximation of $e^{17}$.  \n",
    "Assign this `i` value to the Python variable `best_i`. (1 mark)"
   ]
  },
  {
   "cell_type": "code",
   "execution_count": 44,
   "metadata": {
    "deletable": false,
    "nbgrader": {
     "cell_type": "code",
     "checksum": "612dd6e8fe693a6914da8063cea50ddf",
     "grade": false,
     "grade_id": "cell-19107cc5e6172785",
     "locked": false,
     "schema_version": 3,
     "solution": true,
     "task": false
    }
   },
   "outputs": [],
   "source": [
    "import math\n",
    "approx =[]\n",
    "\n",
    "for i in range(100):\n",
    "    approx.append(sym.simplify(abs(Ep(17,i)-np.exp(17))))\n",
    "    \n",
    "for i in range(len(approx)-1):\n",
    "    if approx[i] < approx[i+1]:\n",
    "        best_i = i\n"
   ]
  },
  {
   "cell_type": "code",
   "execution_count": 42,
   "metadata": {
    "deletable": false,
    "editable": false,
    "nbgrader": {
     "cell_type": "code",
     "checksum": "7b1128338e91bd9003a334d340c7ba86",
     "grade": true,
     "grade_id": "cell-9af45d2463a62c8e",
     "locked": true,
     "points": 1,
     "schema_version": 3,
     "solution": false,
     "task": false
    }
   },
   "outputs": [],
   "source": [
    "assert type(best_i) == int"
   ]
  },
  {
   "cell_type": "markdown",
   "metadata": {},
   "source": [
    "c) Explain why for large `i`, the function `Ep(17,i)` does not approximate $e^{17}$ well. (2 marks)"
   ]
  },
  {
   "cell_type": "markdown",
   "metadata": {
    "deletable": false,
    "nbgrader": {
     "cell_type": "markdown",
     "checksum": "a05e56e1fbba4dd555ddf03596678d53",
     "grade": true,
     "grade_id": "cell-1295de9cbbab45dd",
     "locked": false,
     "points": 2,
     "schema_version": 3,
     "solution": true,
     "task": false
    }
   },
   "source": [
    "##### Answer:\n",
    "Floating point numbers get less precise the further you get from 0. This is because $ 2^{64} $ floating point numbers are not evenly distributed along the number line; the numbers are condensed closer to 0. They are much more frequently found lying close to 0 on the number line. Just as very small numbers are likely to be rounded off, it is common that very large numbers have their nearest floating point number much further away than their actual value. Due to this, the difference between the actual, precise number and the inexact floating point representative is lost. Ergo, for large i, the function does not approximate $ e^{17} $ as well as it possibly could have."
   ]
  },
  {
   "cell_type": "markdown",
   "metadata": {
    "deletable": false,
    "editable": false,
    "nbgrader": {
     "cell_type": "markdown",
     "checksum": "2fe4d9ee1f7c02518dea6d5e33009144",
     "grade": false,
     "grade_id": "cell-aa9b97dfb1ad336c",
     "locked": true,
     "schema_version": 3,
     "solution": false,
     "task": false
    }
   },
   "source": [
    "# 5. Legendre Polynomials\n",
    "\n",
    "The Legendre polynomials $P_n(x)$ can be recursively defined by the following rules:\n",
    "\n",
    "\\begin{align}\n",
    "P_0(x) &= 1 \\\\\n",
    "P_1(x) &= x \\\\\n",
    "(k+1) P_{k+1}(x) &= (2k+1) x P_{k}(x) - k P_{k-1}(x)\n",
    "\\end{align}\n",
    "\n",
    "(Do not use the Legendre functions from sympy or numpy in this question)\n",
    "\n",
    "a) Write a python function `legendre(n)` which for $n>0$ returns a list of polynomials $P_0(x), \\ldots, P_{n-1}(x)$ according to the rules above.  (2 marks)"
   ]
  },
  {
   "cell_type": "code",
   "execution_count": 36,
   "metadata": {
    "deletable": false,
    "nbgrader": {
     "cell_type": "code",
     "checksum": "a8a95ce4e5061541d34ad353dfc12d5b",
     "grade": false,
     "grade_id": "4a",
     "locked": false,
     "schema_version": 3,
     "solution": true,
     "task": false
    }
   },
   "outputs": [
    {
     "data": {
      "text/latex": [
       "$\\displaystyle \\left[ 1, \\  x, \\  \\frac{3 x^{2}}{2} - \\frac{1}{2}\\right]$"
      ],
      "text/plain": [
       "⎡         2    ⎤\n",
       "⎢      3⋅x    1⎥\n",
       "⎢1, x, ──── - ─⎥\n",
       "⎣       2     2⎦"
      ]
     },
     "execution_count": 36,
     "metadata": {},
     "output_type": "execute_result"
    }
   ],
   "source": [
    "def legendre(n):\n",
    "    if n > 0:\n",
    "        list = [1,x]\n",
    "        k=1\n",
    "        for i in range(n-2):\n",
    "            a = ((2*k + 1) * x * list[-1] - (k * list[-2]))/(k+1)\n",
    "            k+=1\n",
    "            list.append(a)\n",
    "        return list\n",
    "legendre(3)"
   ]
  },
  {
   "cell_type": "code",
   "execution_count": 37,
   "metadata": {
    "deletable": false,
    "editable": false,
    "nbgrader": {
     "cell_type": "code",
     "checksum": "e69483a2c1ea1caf9072b11a84a62749",
     "grade": true,
     "grade_id": "cell-4b5e8260a57bf95d",
     "locked": true,
     "points": 2,
     "schema_version": 3,
     "solution": false,
     "task": false
    }
   },
   "outputs": [],
   "source": [
    "assert legendre(2)[1] == x\n",
    "assert len(legendre(2)) == 2"
   ]
  },
  {
   "cell_type": "markdown",
   "metadata": {
    "deletable": false,
    "editable": false,
    "nbgrader": {
     "cell_type": "markdown",
     "checksum": "ae8a118d0ad79d302f81799b4c6151be",
     "grade": false,
     "grade_id": "cell-0b2b1124dea4d975",
     "locked": true,
     "schema_version": 3,
     "solution": false,
     "task": false
    }
   },
   "source": [
    "b) Using your function `legendre()` from part (a) plot $P_1(x),\\ldots, P_9(x)$ for $x\\in[-1,1]$. (1 mark)"
   ]
  },
  {
   "cell_type": "code",
   "execution_count": 150,
   "metadata": {
    "deletable": false,
    "nbgrader": {
     "cell_type": "code",
     "checksum": "e8c03682a3819fb16b5d570c7b32b78d",
     "grade": true,
     "grade_id": "5b",
     "locked": false,
     "points": 1,
     "schema_version": 3,
     "solution": true
    }
   },
   "outputs": [
    {
     "data": {
      "image/png": "[encoded data removed]",
      "text/plain": [
       "<Figure size 432x288 with 1 Axes>"
      ]
     },
     "metadata": {
      "needs_background": "light"
     },
     "output_type": "display_data"
    }
   ],
   "source": [
    "xaxis = np.linspace(-1,1,100)\n",
    "\n",
    "for i in legendre(10)[1:]:\n",
    "    leg = sym.lambdify(x, i)\n",
    "    plt.plot(xaxis, leg(xaxis))\n"
   ]
  },
  {
   "cell_type": "markdown",
   "metadata": {
    "deletable": false,
    "editable": false,
    "nbgrader": {
     "cell_type": "markdown",
     "checksum": "54603c187e1e8d7bdddcb85fffc87907",
     "grade": false,
     "grade_id": "cell-5abf2a0eb22f6c2b",
     "locked": true,
     "schema_version": 3,
     "solution": false,
     "task": false
    }
   },
   "source": [
    "c) An alternive way of expressing the Legendre polynomials is through the formula\n",
    "\n",
    "\\begin{equation}\n",
    " P_{n}(x)={1 \\over 2^{n}n!}{d^{n} \\over dx^{n}}\\left[(x^{2}-1)^{n}\\right]\n",
    "\\end{equation}\n",
    "Calculate $P_{10}$ with this method and assign to the variable `P10`.  Show that it yields the same result as your previous function `legendre(n)`. (2 marks)"
   ]
  },
  {
   "cell_type": "code",
   "execution_count": 183,
   "metadata": {
    "deletable": false,
    "nbgrader": {
     "cell_type": "code",
     "checksum": "b6061d7c7bc1c0686435d3d6974c0eb3",
     "grade": false,
     "grade_id": "5fjsadkfjldsa",
     "locked": false,
     "schema_version": 3,
     "solution": true,
     "task": false
    }
   },
   "outputs": [
    {
     "data": {
      "text/plain": [
       "True"
      ]
     },
     "execution_count": 183,
     "metadata": {},
     "output_type": "execute_result"
    }
   ],
   "source": [
    "n=10\n",
    "p = (1 / ((2**n) * (sym.factorial(n))))\n",
    "p2 = sym.diff(((x**2 - 1)**n),(x,n))\n",
    "ppd2 = (p * p2.simplify())\n",
    "\n",
    "leg = (legendre(11)[-1]).simplify()\n",
    "\n",
    "leg == ppd2"
   ]
  },
  {
   "cell_type": "code",
   "execution_count": null,
   "metadata": {
    "deletable": false,
    "editable": false,
    "nbgrader": {
     "cell_type": "code",
     "checksum": "336e4d94fcb818d1000ef093b12ac0e0",
     "grade": true,
     "grade_id": "cell-7e00a9573fb682f5",
     "locked": true,
     "points": 2,
     "schema_version": 3,
     "solution": false,
     "task": false
    }
   },
   "outputs": [],
   "source": []
  }
 ],
 "metadata": {
  "kernelspec": {
   "display_name": "Python 3",
   "language": "python",
   "name": "python3"
  },
  "language_info": {
   "codemirror_mode": {
    "name": "ipython",
    "version": 3
   },
   "file_extension": ".py",
   "mimetype": "text/x-python",
   "name": "python",
   "nbconvert_exporter": "python",
   "pygments_lexer": "ipython3",
   "version": "3.8.3"
  }
 },
 "nbformat": 4,
 "nbformat_minor": 1
}
