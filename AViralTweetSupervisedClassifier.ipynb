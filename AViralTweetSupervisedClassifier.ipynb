{
 "cells": [
  {
   "cell_type": "markdown",
   "metadata": {},
   "source": [
    "# Twitter Classifier\n",
    "\n",
    "### - Viral **VS** Non-Viral Tweets"
   ]
  },
  {
   "cell_type": "code",
   "execution_count": 45,
   "metadata": {},
   "outputs": [],
   "source": [
    "import pandas as pd\n",
    "import numpy as np\n",
    "from sklearn.preprocessing import scale\n",
    "from sklearn.model_selection import train_test_split\n",
    "from sklearn.neighbors import KNeighborsClassifier"
   ]
  },
  {
   "cell_type": "code",
   "execution_count": 46,
   "metadata": {},
   "outputs": [],
   "source": [
    "all_tweets = pd.read_json(\"random_tweets.json\", lines=True)\n",
    "\n",
    "#print(len(all_tweets))\n",
    "#print(all_tweets.columns)\n",
    "#print(all_tweets['retweet_count'])"
   ]
  },
  {
   "cell_type": "markdown",
   "metadata": {},
   "source": [
    "Importing the necessary libraries. Reading the data into a dataframe. Having a bit of a look at the dataframe."
   ]
  },
  {
   "cell_type": "code",
   "execution_count": 47,
   "metadata": {},
   "outputs": [],
   "source": [
    "median_retweets = all_tweets['retweet_count'].median()\n",
    "all_tweets['is_viral'] = np.where(all_tweets['retweet_count'] > median_retweets, 1, 0)"
   ]
  },
  {
   "cell_type": "markdown",
   "metadata": {},
   "source": [
    "Finding the median number of retweets to use as a benchmark for viral tweets. A separate column is declaring whether or not the tweet is viral. This will be used as our labels set soon."
   ]
  },
  {
   "cell_type": "code",
   "execution_count": 48,
   "metadata": {},
   "outputs": [
    {
     "name": "stdout",
     "output_type": "stream",
     "text": [
      "0        0\n",
      "1        0\n",
      "2        0\n",
      "3        1\n",
      "4        0\n",
      "        ..\n",
      "11094    1\n",
      "11095    1\n",
      "11096    0\n",
      "11097    0\n",
      "11098    0\n",
      "Name: is_viral, Length: 11099, dtype: int64\n"
     ]
    }
   ],
   "source": [
    "print(all_tweets.is_viral)"
   ]
  },
  {
   "cell_type": "markdown",
   "metadata": {},
   "source": [
    "Just having a look to see if there were any problems with the conversion."
   ]
  },
  {
   "cell_type": "code",
   "execution_count": 49,
   "metadata": {},
   "outputs": [],
   "source": [
    "all_tweets['tweet_length'] = all_tweets.apply(lambda tweet: len(tweet['text']), axis=1)"
   ]
  },
  {
   "cell_type": "markdown",
   "metadata": {},
   "source": [
    "Adding a column that highlights the number of characters in each tweet."
   ]
  },
  {
   "cell_type": "code",
   "execution_count": 50,
   "metadata": {},
   "outputs": [
    {
     "name": "stdout",
     "output_type": "stream",
     "text": [
      "0        140\n",
      "1         77\n",
      "2        140\n",
      "3        140\n",
      "4        140\n",
      "        ... \n",
      "11094    140\n",
      "11095     75\n",
      "11096    140\n",
      "11097    140\n",
      "11098     75\n",
      "Name: tweet_length, Length: 11099, dtype: int64\n"
     ]
    }
   ],
   "source": [
    "print(all_tweets.tweet_length)"
   ]
  },
  {
   "cell_type": "markdown",
   "metadata": {},
   "source": [
    "Seeing if there were any problems with adding the tweet character column."
   ]
  },
  {
   "cell_type": "code",
   "execution_count": 51,
   "metadata": {},
   "outputs": [],
   "source": [
    "all_tweets['followers_count'] = all_tweets.apply(lambda tweet: tweet['user']['followers_count'] , axis=1)\n",
    "all_tweets['friends_count'] = all_tweets.apply(lambda tweet: tweet['user']['friends_count'], axis=1)\n",
    "all_tweets['hashtag_count'] = all_tweets.apply(lambda tweet: tweet['text'].count('#') , axis=1)"
   ]
  },
  {
   "cell_type": "markdown",
   "metadata": {},
   "source": [
    "Doing the same as tweet length but with followers, friends, and number of hashtags."
   ]
  },
  {
   "cell_type": "code",
   "execution_count": 52,
   "metadata": {},
   "outputs": [
    {
     "name": "stdout",
     "output_type": "stream",
     "text": [
      "0         215\n",
      "1         199\n",
      "2         196\n",
      "3        3313\n",
      "4         125\n",
      "         ... \n",
      "11094     509\n",
      "11095     462\n",
      "11096     135\n",
      "11097      59\n",
      "11098    1563\n",
      "Name: followers_count, Length: 11099, dtype: int64\n",
      "0         335\n",
      "1         203\n",
      "2         558\n",
      "3        2272\n",
      "4         273\n",
      "         ... \n",
      "11094    1323\n",
      "11095    1033\n",
      "11096      90\n",
      "11097     320\n",
      "11098    1697\n",
      "Name: friends_count, Length: 11099, dtype: int64\n"
     ]
    }
   ],
   "source": [
    "print(all_tweets.followers_count)\n",
    "print(all_tweets.friends_count)"
   ]
  },
  {
   "cell_type": "markdown",
   "metadata": {},
   "source": [
    "Verifying that there were no problems with adding the new columns."
   ]
  },
  {
   "cell_type": "code",
   "execution_count": 53,
   "metadata": {},
   "outputs": [],
   "source": [
    "labels = all_tweets['is_viral']\n",
    "data = all_tweets[['tweet_length', 'followers_count', 'friends_count', 'hashtag_count']]"
   ]
  },
  {
   "cell_type": "markdown",
   "metadata": {},
   "source": [
    "Adding labels to be whether or not a tweet was viral. The data markers based on the length of the tweet, number of followers, number of friends, number of hashtags."
   ]
  },
  {
   "cell_type": "code",
   "execution_count": 54,
   "metadata": {},
   "outputs": [
    {
     "name": "stdout",
     "output_type": "stream",
     "text": [
      "[[ 0.6164054  -0.02878298 -0.14483305 -0.32045057]\n",
      " [-1.64577622 -0.02886246 -0.16209787 -0.32045057]\n",
      " [ 0.6164054  -0.02887736 -0.11566596 -0.32045057]\n",
      " ...\n",
      " [ 0.6164054  -0.02918038 -0.1768776  -0.32045057]\n",
      " [ 0.6164054  -0.02955792 -0.14679496 -0.32045057]\n",
      " [-1.71759151 -0.02208668  0.0333085  -0.32045057]]\n"
     ]
    }
   ],
   "source": [
    "scaled_data = scale(data, axis = 0)\n",
    "print(scaled_data)"
   ]
  },
  {
   "cell_type": "markdown",
   "metadata": {},
   "source": [
    "Scales the testing data, this is necessary due to the fact that 3 hashtags are more rare/valuable than 3 followers. They need to be normalised so they are on a scale of similar importances."
   ]
  },
  {
   "cell_type": "code",
   "execution_count": 55,
   "metadata": {},
   "outputs": [],
   "source": [
    "train_data, testing_data, training_labels, testing_labels = train_test_split(data, labels, test_size = 0.2, random_state = 1)"
   ]
  },
  {
   "cell_type": "markdown",
   "metadata": {},
   "source": [
    "data is split into data that trains the model and data that tests the model."
   ]
  },
  {
   "cell_type": "code",
   "execution_count": 56,
   "metadata": {},
   "outputs": [],
   "source": [
    "scores = []\n",
    "for k in range(1, 200):\n",
    "    classifier = KNeighborsClassifier(n_neighbors = k)\n",
    "    classifier.fit(train_data, training_labels)\n",
    "    scores.append(classifier.score(testing_data, testing_labels))"
   ]
  },
  {
   "cell_type": "markdown",
   "metadata": {},
   "source": [
    "Sets the classifier with n_neighbors equal to the iteration it is on. Fits the data using the training data and labels found previously. Adds the calculated efficiency to the scores list.\n",
    "Continues for the number of iterations."
   ]
  },
  {
   "cell_type": "code",
   "execution_count": 57,
   "metadata": {},
   "outputs": [
    {
     "data": {
      "image/png": "[encoded data removed]",
      "text/plain": [
       "<Figure size 432x288 with 1 Axes>"
      ]
     },
     "metadata": {
      "needs_background": "light"
     },
     "output_type": "display_data"
    },
    {
     "data": {
      "text/plain": [
       "0.5833333333333334"
      ]
     },
     "execution_count": 57,
     "metadata": {},
     "output_type": "execute_result"
    }
   ],
   "source": [
    "plt.plot(scores)\n",
    "plt.show()\n",
    "\n",
    "scores.index(max(scores))\n",
    "scores[28]"
   ]
  },
  {
   "cell_type": "markdown",
   "metadata": {},
   "source": [
    "Plots the scores which contain the efficiency of the model. \n",
    "Finds the index of the max socre.\n",
    "Prints the number which makes the score max."
   ]
  }
 ],
 "metadata": {
  "kernelspec": {
   "display_name": "Python 3",
   "language": "python",
   "name": "python3"
  },
  "language_info": {
   "codemirror_mode": {
    "name": "ipython",
    "version": 3
   },
   "file_extension": ".py",
   "mimetype": "text/x-python",
   "name": "python",
   "nbconvert_exporter": "python",
   "pygments_lexer": "ipython3",
   "version": "3.8.3"
  }
 },
 "nbformat": 4,
 "nbformat_minor": 4
}
