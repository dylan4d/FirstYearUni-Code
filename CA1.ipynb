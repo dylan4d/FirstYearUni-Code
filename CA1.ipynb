{
 "cells": [
  {
   "cell_type": "markdown",
   "metadata": {
    "deletable": false,
    "editable": false,
    "nbgrader": {
     "cell_type": "markdown",
     "checksum": "a965729daf3bf2a4012b420f63bd18fa",
     "grade": false,
     "grade_id": "cell-0228a5ff376f4d93",
     "locked": true,
     "schema_version": 3,
     "solution": false
    }
   },
   "source": [
    "# AM1054 Continuous Assessment 1"
   ]
  },
  {
   "cell_type": "code",
   "execution_count": 1,
   "metadata": {
    "deletable": false,
    "editable": false,
    "nbgrader": {
     "cell_type": "code",
     "checksum": "55b6be45ddc0794febe7cf3887dce4b9",
     "grade": false,
     "grade_id": "cell-4062af99dd5255b7",
     "locked": true,
     "schema_version": 3,
     "solution": false
    }
   },
   "outputs": [],
   "source": [
    "# execute this cell before you start the assignment\n",
    "%matplotlib inline\n",
    "import numpy as np\n",
    "import matplotlib.pyplot as plt"
   ]
  },
  {
   "cell_type": "markdown",
   "metadata": {
    "deletable": false,
    "editable": false,
    "nbgrader": {
     "cell_type": "markdown",
     "checksum": "301e4fe7c961b6fcfa7862102ccb3f9e",
     "grade": false,
     "grade_id": "cell-5f2bc2b8e2966b6f",
     "locked": true,
     "schema_version": 3,
     "solution": false
    }
   },
   "source": [
    "Due Monday 2 November 2020, 12noon. No late assignments will be accepted. Strictly individual (no team) solutions are required. \n",
    "\n",
    "Upload your solution file `CA1.ipynb` to Canvas. \n",
    "\n",
    "Write `std_nr='11XXXXXXX'` (where 11XXXXXXX is your student number) into the next cell:"
   ]
  },
  {
   "cell_type": "code",
   "execution_count": 2,
   "metadata": {
    "deletable": false,
    "nbgrader": {
     "cell_type": "code",
     "checksum": "094b0c245b6fed6520a44289d2b9daee",
     "grade": false,
     "grade_id": "stnr",
     "locked": false,
     "schema_version": 3,
     "solution": true
    }
   },
   "outputs": [],
   "source": [
    "#Dylan Forde\n",
    "std_nr='120309116'"
   ]
  },
  {
   "cell_type": "code",
   "execution_count": 3,
   "metadata": {
    "deletable": false,
    "editable": false,
    "nbgrader": {
     "cell_type": "code",
     "checksum": "7bae4417cda9a6b20ba8bbf58ccd6697",
     "grade": true,
     "grade_id": "cell-7c82e818061b6421",
     "locked": true,
     "points": 0,
     "schema_version": 3,
     "solution": false
    }
   },
   "outputs": [],
   "source": [
    "assert(int(std_nr))"
   ]
  },
  {
   "cell_type": "markdown",
   "metadata": {
    "deletable": false,
    "editable": false,
    "nbgrader": {
     "cell_type": "markdown",
     "checksum": "a7c2139f8c554bb02e9b55d38b62cda0",
     "grade": false,
     "grade_id": "cell-af05607cbabb002e",
     "locked": true,
     "schema_version": 3,
     "solution": false
    }
   },
   "source": [
    "Write your solutions in the cell below each question. "
   ]
  },
  {
   "cell_type": "markdown",
   "metadata": {},
   "source": [
    "# 1. Newton's $\\pi$ formula\n",
    "\n",
    "Define the following function:\n",
    "\\begin{equation}\n",
    "  N(n) = 24\\left(\\frac{\\sqrt{3}}{32} - \\sum_{k=0}^n\n",
    "  \\frac{(2k)!}{2^{4k+2}(k!)^2(2k-1)(2k+3)} \\right)\n",
    "\\end{equation}\n",
    "a) Implement a function `N(n)` in Python, which returns the value of $N(n)$ for integer values of `n >= 0`. Calculate N(0) and N(10). Hint: you can use `np.math.factorial(k)` to calculate $k!$. (3 marks)"
   ]
  },
  {
   "cell_type": "code",
   "execution_count": 4,
   "metadata": {
    "deletable": false,
    "nbgrader": {
     "cell_type": "code",
     "checksum": "67847f4d4437c60f2321ff3c4a47a64f",
     "grade": false,
     "grade_id": "cell-6706360d88ac62a3",
     "locked": false,
     "schema_version": 3,
     "solution": true,
     "task": false
    }
   },
   "outputs": [],
   "source": [
    "def N(n):\n",
    "    x = ((3)*(3**0.5)) / 4\n",
    "    too_long = 0\n",
    "    if n >= 0:\n",
    "        for k in range(n+1):\n",
    "            too_long += (np.math.factorial(2*k))/ ((4 * (2** (4*k))) * (np.math.factorial(k) ** 2) * (4*(k**2) + (4*k) - 3))\n",
    "    return x - (24 * too_long)"
   ]
  },
  {
   "cell_type": "code",
   "execution_count": 5,
   "metadata": {
    "scrolled": true
   },
   "outputs": [
    {
     "data": {
      "text/plain": [
       "3.299038105676658"
      ]
     },
     "execution_count": 5,
     "metadata": {},
     "output_type": "execute_result"
    }
   ],
   "source": [
    "N(0)"
   ]
  },
  {
   "cell_type": "code",
   "execution_count": 6,
   "metadata": {},
   "outputs": [
    {
     "data": {
      "text/plain": [
       "3.141592654165068"
      ]
     },
     "execution_count": 6,
     "metadata": {},
     "output_type": "execute_result"
    }
   ],
   "source": [
    "N(10)"
   ]
  },
  {
   "cell_type": "code",
   "execution_count": 7,
   "metadata": {
    "deletable": false,
    "editable": false,
    "nbgrader": {
     "cell_type": "code",
     "checksum": "f2f364dc3b5c0ff130e5720c52b01af0",
     "grade": true,
     "grade_id": "cell-985827416cdc9dd9",
     "locked": true,
     "points": 3,
     "schema_version": 3,
     "solution": false,
     "task": false
    }
   },
   "outputs": [],
   "source": [
    "assert(type(N(10)) == float)"
   ]
  },
  {
   "cell_type": "markdown",
   "metadata": {
    "deletable": false,
    "editable": false,
    "nbgrader": {
     "cell_type": "markdown",
     "checksum": "7795ffa90fe21f3582c4b16e3f3e70f1",
     "grade": false,
     "grade_id": "cell-7e6b6cc200569fbb",
     "locked": true,
     "schema_version": 3,
     "solution": false
    }
   },
   "source": [
    "b) It is known that \n",
    "\\begin{equation}\n",
    "\\lim_{n\\to \\infty}  N(n)= \\pi\n",
    "\\end{equation}\n",
    "How well does $N(n)$ approximate $\\pi$ for $n = 1, 2, \\ldots, 20$? Use a loop, to define a list of numbers `diff_N`, such that `diff_N[0]` is  `N(1) - np.pi`, `diff_N[1]` is  `N(2) - np.pi`, and so on up to `diff_N[19]` which is  `N(20) - np.pi`.  (1 mark)\n"
   ]
  },
  {
   "cell_type": "code",
   "execution_count": 8,
   "metadata": {
    "deletable": false,
    "nbgrader": {
     "cell_type": "code",
     "checksum": "c863a33c5ec5aa7263888b7ea21b6c06",
     "grade": false,
     "grade_id": "cell-ba554c44582fc06c",
     "locked": false,
     "schema_version": 3,
     "solution": true,
     "task": false
    }
   },
   "outputs": [
    {
     "name": "stdout",
     "output_type": "stream",
     "text": [
      "[0.1574454520868649, 0.007445452086864535, 0.0007490235154357094, 9.79818487696349e-05, 1.4752090246705762e-05, 2.4276836958492254e-06, 4.2496763175137175e-07, 7.785822964123668e-08, 1.4773379408694609e-08, 2.882385885527583e-09, 5.752749387966105e-10, 1.169988550486778e-10, 2.417666067344726e-11, 5.064393349130114e-12, 1.0733636202076013e-12, 2.2959412149248237e-13, 4.973799150320701e-14, 1.0658141036401503e-14, 2.220446049250313e-15, 0.0]\n"
     ]
    }
   ],
   "source": [
    "diff_N = []\n",
    "while len(diff_N)<19:\n",
    "    for n in range(0,20):\n",
    "        diff_N.append(N(n)-np.pi)\n",
    "print(diff_N)"
   ]
  },
  {
   "cell_type": "code",
   "execution_count": 9,
   "metadata": {
    "deletable": false,
    "editable": false,
    "nbgrader": {
     "cell_type": "code",
     "checksum": "171e231f97ac21faca78b9eb02f6c085",
     "grade": true,
     "grade_id": "cell-0dbd17e512671575",
     "locked": true,
     "points": 1,
     "schema_version": 3,
     "solution": false,
     "task": false
    }
   },
   "outputs": [],
   "source": [
    "assert(len(diff_N)==20)"
   ]
  },
  {
   "cell_type": "markdown",
   "metadata": {
    "deletable": false,
    "editable": false,
    "nbgrader": {
     "cell_type": "markdown",
     "checksum": "79c43d82d36f4fc84d3b09800e372abb",
     "grade": false,
     "grade_id": "cell-8bc760dba68cdbd8",
     "locked": true,
     "schema_version": 3,
     "solution": false
    }
   },
   "source": [
    "c) Plot a graph of the logarithm of the absolute values of the numbers `diff_N`. Hint: Convert the list of numbers `diff_N` into a numpy array and use `abs()` and `np.log()`. (1 mark)"
   ]
  },
  {
   "cell_type": "code",
   "execution_count": 19,
   "metadata": {
    "deletable": false,
    "nbgrader": {
     "cell_type": "code",
     "checksum": "5a30a90de77dbd2c4a98cc78b89815da",
     "grade": true,
     "grade_id": "cell-9367e92d80a63fd3",
     "locked": false,
     "points": 1,
     "schema_version": 3,
     "solution": true
    },
    "scrolled": true
   },
   "outputs": [
    {
     "name": "stderr",
     "output_type": "stream",
     "text": [
      "<ipython-input-19-6eaaef798549>:5: RuntimeWarning: divide by zero encountered in log\n",
      "  i = np.log(i)\n"
     ]
    },
    {
     "data": {
      "text/plain": [
       "[<matplotlib.lines.Line2D at 0x7fbf03029b20>]"
      ]
     },
     "execution_count": 19,
     "metadata": {},
     "output_type": "execute_result"
    },
    {
     "data": {
      "image/png": "[encoded data removed]",
      "text/plain": [
       "<Figure size 432x288 with 1 Axes>"
      ]
     },
     "metadata": {
      "needs_background": "light"
     },
     "output_type": "display_data"
    }
   ],
   "source": [
    "array_of_diff_N = np.array(diff_N)\n",
    "\n",
    "for i in array_of_diff_N:\n",
    "        i = abs(i)\n",
    "        i = np.log(i)\n",
    "\n",
    "plt.plot(array_of_diff_N)\n",
    "\n"
   ]
  },
  {
   "cell_type": "markdown",
   "metadata": {},
   "source": [
    "# 2. Matplotlib gallery\n",
    "\n",
    "Select an example from the [matplotlib gallery](https://matplotlib.org/gallery/index.html), other than the `simple plot` example or what was used in the lecture or tutorial. \n",
    "\n",
    "\n",
    "\n",
    "a) Copy and paste the example code into the cell below.  Using hash signs `#` add comments to the code, which explain each line of code in your own words.  The comment in the first line should be a web link to your example. (3 marks)"
   ]
  },
  {
   "cell_type": "code",
   "execution_count": 125,
   "metadata": {
    "deletable": false,
    "nbgrader": {
     "cell_type": "code",
     "checksum": "6fefbec65af79835345ead08c9be4633",
     "grade": true,
     "grade_id": "cell-c9f373433ec1b0a8",
     "locked": false,
     "points": 3,
     "schema_version": 3,
     "solution": true,
     "task": false
    }
   },
   "outputs": [
    {
     "data": {
      "image/png": "[encoded data removed]",
      "text/plain": [
       "<Figure size 432x288 with 1 Axes>"
      ]
     },
     "metadata": {
      "needs_background": "light"
     },
     "output_type": "display_data"
    }
   ],
   "source": [
    "#https://matplotlib.org/gallery/lines_bars_and_markers/stem_plot.html#sphx-glr-gallery-lines-bars-and-markers-stem-plot-py\n",
    "import matplotlib.pyplot as plt #imports the library and sets it so that we can refer to it as plt\n",
    "import numpy as np #imports the library and sets it so that we can refer to it as np\n",
    "\n",
    "x = np.linspace(0, 2 * np.pi, 45) #sets x as linespace taking the start (0.1), the end (2*pi), and\n",
    " #the number of slices in between\n",
    "y = np.exp(np.sin(x)) #sets y as e^sin(x) for each value of x in the array\n",
    "\n",
    "plt.stem(x, y) #plots x against y.\n",
    "plt.show() #shows the plot by graphing it."
   ]
  },
  {
   "cell_type": "markdown",
   "metadata": {},
   "source": [
    "b) Make four meaningful changes to the original example.  Add comments which explain what your changes are doing. (2 marks)"
   ]
  },
  {
   "cell_type": "code",
   "execution_count": 127,
   "metadata": {
    "deletable": false,
    "nbgrader": {
     "cell_type": "code",
     "checksum": "5ce3200a0412df55f4267ab460d792a0",
     "grade": true,
     "grade_id": "cell-d41827f9192e889c",
     "locked": false,
     "points": 2,
     "schema_version": 3,
     "solution": true,
     "task": false
    },
    "scrolled": true
   },
   "outputs": [
    {
     "data": {
      "image/png": "[encoded data removed]",
      "text/plain": [
       "<Figure size 432x288 with 1 Axes>"
      ]
     },
     "metadata": {
      "needs_background": "light"
     },
     "output_type": "display_data"
    }
   ],
   "source": [
    "import matplotlib.pyplot as plt\n",
    "import numpy as np\n",
    "\n",
    "x = np.linspace(0, 2 * np.pi, 45)\n",
    "y = np.exp(np.sin(x))\n",
    "\n",
    "plt.stem(x, y, linefmt='C02', markerfmt=':',bottom=-3 ,basefmt='C02' ,label='Green', use_line_collection=True) #changes the linestyles #sets the bottom as line 3, and -3 respectively.\n",
    "plt.stem(x, -y, linefmt='C01', markerfmt='C07',bottom=3, basefmt='C01' ,label='Orange', use_line_collection=True)#reflects the graph across the x-axis #changes the colours #line collection groups the lines together for performance.\n",
    "\n",
    "plt.xlabel(\"x\")\n",
    "plt.ylabel(\"e^sin(x)\") #labelling the x and y axis as to give general knowledge regarding the graph. For example, the operation used to calculate the y coordinate.\n",
    "plt.legend() #plots the legend of the graph. #labelled the stem plots as green and orange.\n",
    "plt.show()"
   ]
  },
  {
   "cell_type": "markdown",
   "metadata": {},
   "source": [
    "c) Now make a *nice* plot of any data, which you collected yourself or that you find interesting. The data should have at least five and not more than 20 datapoints. (This plot can be unrelatd to your plots in (a) and (b)). (3 marks)"
   ]
  },
  {
   "cell_type": "code",
   "execution_count": 141,
   "metadata": {
    "deletable": false,
    "nbgrader": {
     "cell_type": "code",
     "checksum": "bfda92882dde1ee0646aa9dc71ed26aa",
     "grade": true,
     "grade_id": "cell-da44ca9c0b645b7b",
     "locked": false,
     "points": 3,
     "schema_version": 3,
     "solution": true,
     "task": false
    }
   },
   "outputs": [
    {
     "data": {
      "image/png": "[encoded data removed]",
      "text/plain": [
       "<Figure size 432x288 with 1 Axes>"
      ]
     },
     "metadata": {
      "needs_background": "light"
     },
     "output_type": "display_data"
    }
   ],
   "source": [
    "import numpy as np\n",
    "import matplotlib.pyplot as plt\n",
    "\n",
    "\n",
    "year = ['01/09/2018','01/09/2019','01/09/2020']\n",
    "market_cap = {'Alphabet': [793.14, 783.9, 1051.11],\n",
    "    'Apple': [931.46, 943.1, 1654.65],\n",
    "    'Amazon': [834.79, 961.74, 1600.00],\n",
    "    'Microsoft': [776.20, 1046.32,1626.03],\n",
    "    'Facebook': [586.32, 560.53, 698.45]}\n",
    "\n",
    "fig, ax = plt.subplots()\n",
    "ax.stackplot(year, market_cap.values(),\n",
    "             labels=market_cap.keys())\n",
    "ax.legend(loc='upper left')\n",
    "ax.set_title('Market Capitilization Growth')\n",
    "ax.set_xlabel('Year')\n",
    "ax.set_ylabel('Market Cap (Billions)')\n",
    "\n",
    "plt.show()"
   ]
  },
  {
   "cell_type": "markdown",
   "metadata": {},
   "source": [
    "## 3. Continuous Fractions and the Euclidean algorithm\n",
    "\n",
    "Continuous fractions and the related Euclidean algorithm have a long tradition in mathematics, going back more than 2000 years. For more background info see for example https://brilliant.org/wiki/continued-fractions/ .  One notable mathematician working in this field was [William Brouncker](https://en.wikipedia.org/wiki/William_Brouncker,_2nd_Viscount_Brouncker) (born 1620 in Castlelyons, close to Fermoy).\n",
    "\n",
    "a) Write a python function `cf_list(a,b)` which for two integer numbers $a\\geq b$ returns a list of integer numbers $[c_0,c_1, \\ldots, c_{n-1} ]$ obtained through the following rules (Euclidean algorithm): \n",
    "\n",
    "* Calculate $c_0 = a/b$ using integer devision. \n",
    "* Update $a$ and $b$ so that the new $a$ is the old $b$ and the new $b$ is $(a \\mod b)$.  \n",
    "* Then calculate $c_1 = a/b$ and update $a$ and $b$ again as before. \n",
    "* Continue this procedure and calculate $c_2,c_3, \\ldots$ until the updated $b$ is zero. Then return the list $[c_0,c_1,\\ldots]$.\n",
    "\n",
    "Hint: Integer division in python can be written as `a//b` and mod as `a%b`. (3 marks)  "
   ]
  },
  {
   "cell_type": "code",
   "execution_count": 3,
   "metadata": {
    "deletable": false,
    "nbgrader": {
     "cell_type": "code",
     "checksum": "722b607628cb3cd0afd6dc7cb8370237",
     "grade": false,
     "grade_id": "cell-88c4709e7ed8fb78",
     "locked": false,
     "schema_version": 3,
     "solution": true
    }
   },
   "outputs": [
    {
     "name": "stdout",
     "output_type": "stream",
     "text": [
      "[4, 2, 6, 7]\n"
     ]
    }
   ],
   "source": [
    "def cf_list(a,b):\n",
    "    x = []\n",
    "    while b != 0:\n",
    "            x.append(a // b)\n",
    "            a, b = b, a % b\n",
    "    return x\n",
    "            \n",
    "print(cf_list(415,93))"
   ]
  },
  {
   "cell_type": "code",
   "execution_count": 4,
   "metadata": {
    "deletable": false,
    "editable": false,
    "nbgrader": {
     "cell_type": "code",
     "checksum": "84b8d65552757384af506075eece8449",
     "grade": true,
     "grade_id": "cell-e706f87c61a26239",
     "locked": true,
     "points": 3,
     "schema_version": 3,
     "solution": false
    }
   },
   "outputs": [],
   "source": [
    "assert(cf_list(415,93)==[4,2,6,7])"
   ]
  },
  {
   "cell_type": "markdown",
   "metadata": {},
   "source": [
    "c) Now write a second function `cf_calc(clist)` which for a given list $[c_0,\\ldots,c_{n-1}]$ returns the fraction\n",
    "\\begin{equation}\n",
    "  x = c_0 + \\cfrac{1}{c_1\n",
    "          + \\cfrac{1}{c_2\n",
    "          + \\cfrac{1}{\\ddots + \\cfrac{1}{c_{n-1}} } } }\n",
    "\\end{equation}\n",
    "in the form of two numbers: the numerator and the denominator.\n",
    "\n",
    "Check that `cf_calc([4,2,6,7])` yields the pair `(415,93)` since\n",
    "\\begin{equation}\n",
    "  4 + \\cfrac{1}{2\n",
    "          + \\cfrac{1}{6\n",
    "          + \\cfrac{1}{7 } } } = \\frac{415}{93} \\approx 4.4623655914.\n",
    "\\end{equation}\n",
    "(2.5 marks)"
   ]
  },
  {
   "cell_type": "code",
   "execution_count": 5,
   "metadata": {
    "deletable": false,
    "nbgrader": {
     "cell_type": "code",
     "checksum": "4c73b5a3561daabaca4e12efca3b138e",
     "grade": false,
     "grade_id": "cell-954f8eb4d2caeedf",
     "locked": false,
     "schema_version": 3,
     "solution": true
    }
   },
   "outputs": [
    {
     "name": "stdout",
     "output_type": "stream",
     "text": [
      "(415, 93)\n"
     ]
    }
   ],
   "source": [
    "def cf_calc(clist):\n",
    "    numerator=1\n",
    "    denominator=0\n",
    "    \n",
    "    for i in reversed(clist):\n",
    "        list_c = numerator\n",
    "        numerator = denominator + (numerator*i)\n",
    "        denominator = list_c\n",
    "    return numerator, denominator\n",
    "    \n",
    "print(cf_calc([4,2,6,7]))"
   ]
  },
  {
   "cell_type": "code",
   "execution_count": 6,
   "metadata": {
    "deletable": false,
    "editable": false,
    "nbgrader": {
     "cell_type": "code",
     "checksum": "de96eedafaf610c7137d72c45e663c5e",
     "grade": true,
     "grade_id": "cell-48621cc4ff639c05",
     "locked": true,
     "points": 2.5,
     "schema_version": 3,
     "solution": false
    }
   },
   "outputs": [],
   "source": [
    "assert(cf_calc([4,2,6,7]) == (415,93))"
   ]
  },
  {
   "cell_type": "markdown",
   "metadata": {},
   "source": [
    "d) Calculate `cf_calc([1,1,1,1,1,1,1,1,1,1,1,1,1,1])` and compare with the golden ration $(1+\\sqrt{5})/2$. (0.5 marks)"
   ]
  },
  {
   "cell_type": "code",
   "execution_count": 8,
   "metadata": {
    "deletable": false,
    "nbgrader": {
     "cell_type": "code",
     "checksum": "deb1b95fbc76730f41ddf045d303bcdd",
     "grade": true,
     "grade_id": "cell-4d2feee5cfa3f87a",
     "locked": false,
     "points": 0.5,
     "schema_version": 3,
     "solution": true
    }
   },
   "outputs": [
    {
     "data": {
      "text/plain": [
       "(610, 377)"
      ]
     },
     "execution_count": 8,
     "metadata": {},
     "output_type": "execute_result"
    }
   ],
   "source": [
    "cf_calc([1,1,1,1,1,1,1,1,1,1,1,1,1,1])\n",
    "\n",
    "# ((1 + (5 ** 0.5))/ 2)/(610/377)=0.9999980553421481 which ~ 1, meaning they are nearly equivalent."
   ]
  },
  {
   "cell_type": "markdown",
   "metadata": {},
   "source": [
    "e) Now use `cf_list()` to guess the continuous fraction of $\\sqrt{2}$. \n",
    "\n",
    "*Hint*: for a given float `q` and a suitably chosen large number `N`, use `cf_list(int(q*N), N)` and observe the emerging pattern as `N` increases. (0.5 marks)"
   ]
  },
  {
   "cell_type": "code",
   "execution_count": 136,
   "metadata": {
    "deletable": false,
    "nbgrader": {
     "cell_type": "code",
     "checksum": "399206d6bb978f4dd1879b05d0872fc9",
     "grade": true,
     "grade_id": "cell-0f48a4c21dd57046",
     "locked": false,
     "points": 0.5,
     "schema_version": 3,
     "solution": true
    }
   },
   "outputs": [
    {
     "data": {
      "text/plain": [
       "[1, 2, 2]"
      ]
     },
     "execution_count": 136,
     "metadata": {},
     "output_type": "execute_result"
    }
   ],
   "source": [
    "#cf_list(int(1.4*5), 5)\n",
    "#cf_list(int(1.4*10), 10)\n",
    "#cf_list(int(1.4*20), 20)\n",
    "#cf_list(int(1.4*40), 40)\n",
    "#cf_list(int(1.4*80), 80)\n",
    "cf_list(int(1.4*150),150) #approached 1,2,2 as N increased"
   ]
  },
  {
   "cell_type": "markdown",
   "metadata": {},
   "source": [
    "f) Try to find the expansion for the Euler number $e$. (0.5 marks)"
   ]
  },
  {
   "cell_type": "code",
   "execution_count": 142,
   "metadata": {
    "deletable": false,
    "nbgrader": {
     "cell_type": "code",
     "checksum": "f8514ea2d9c59137a0ef6d966991d878",
     "grade": true,
     "grade_id": "ffgsdg",
     "locked": false,
     "points": 0.5,
     "schema_version": 3,
     "solution": true
    }
   },
   "outputs": [
    {
     "data": {
      "text/plain": [
       "120"
      ]
     },
     "execution_count": 142,
     "metadata": {},
     "output_type": "execute_result"
    }
   ],
   "source": [
    "#http://www.math.com/tables/expansion/exp.htm = the formula for the expansion of e. \n",
    "#factorial\n",
    "def factorial(ewler):\n",
    "    ler=1 \n",
    "    if ewler == 0:\n",
    "        return 1\n",
    "    elif n>0:\n",
    "        for ew in range(1,ewler+1):\n",
    "            ler=ew * ler\n",
    "        return ler\n",
    "factorial(3)\n",
    "factorial(5)"
   ]
  },
  {
   "cell_type": "code",
   "execution_count": 158,
   "metadata": {},
   "outputs": [],
   "source": [
    "#expansion\n",
    "def euler(e):\n",
    "    euwler = 0\n",
    "    for euw in range(0,999):\n",
    "        euwler = euwler + (e * euw / factorial(euw))\n",
    "    return euwler"
   ]
  },
  {
   "cell_type": "code",
   "execution_count": 186,
   "metadata": {
    "scrolled": true
   },
   "outputs": [
    {
     "name": "stdout",
     "output_type": "stream",
     "text": [
      "271.8281828459046\n",
      "27.182818284590454\n",
      "2.7182818284590455\n",
      "0.0\n"
     ]
    }
   ],
   "source": [
    "print(euler(100))\n",
    "print(euler(10))\n",
    "print(euler(1))\n",
    "print(euler(0))"
   ]
  },
  {
   "cell_type": "code",
   "execution_count": null,
   "metadata": {},
   "outputs": [],
   "source": []
  }
 ],
 "metadata": {
  "kernelspec": {
   "display_name": "Python 3",
   "language": "python",
   "name": "python3"
  },
  "language_info": {
   "codemirror_mode": {
    "name": "ipython",
    "version": 3
   },
   "file_extension": ".py",
   "mimetype": "text/x-python",
   "name": "python",
   "nbconvert_exporter": "python",
   "pygments_lexer": "ipython3",
   "version": "3.8.3"
  }
 },
 "nbformat": 4,
 "nbformat_minor": 1
}
